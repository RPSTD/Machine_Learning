{
 "cells": [
  {
   "cell_type": "code",
   "execution_count": 27,
   "id": "3850ba5b-cfbc-4298-938f-7a28f5a8961b",
   "metadata": {},
   "outputs": [
    {
     "name": "stdout",
     "output_type": "stream",
     "text": [
      "30\n",
      "10\n"
     ]
    }
   ],
   "source": [
    "# Basic mathematical operations\n",
    "print(10+20)\n",
    "print(30-20)\n"
   ]
  },
  {
   "cell_type": "code",
   "execution_count": 5,
   "id": "fde75c95-0dab-4cc9-8e78-6f7a13b6655a",
   "metadata": {},
   "outputs": [
    {
     "name": "stdout",
     "output_type": "stream",
     "text": [
      "2.5\n"
     ]
    }
   ],
   "source": [
    "print(5/2)\n"
   ]
  },
  {
   "cell_type": "code",
   "execution_count": 11,
   "id": "7868cb2f-f980-4f83-b29f-1e6623cb9dde",
   "metadata": {},
   "outputs": [
    {
     "name": "stdout",
     "output_type": "stream",
     "text": [
      "25\n"
     ]
    }
   ],
   "source": [
    "print(5**2)\n"
   ]
  },
  {
   "cell_type": "code",
   "execution_count": 9,
   "id": "9ae3e779-b62d-4bb7-b565-fbc2fa913a50",
   "metadata": {},
   "outputs": [
    {
     "name": "stdout",
     "output_type": "stream",
     "text": [
      "2\n"
     ]
    }
   ],
   "source": [
    "print(5//2)\n"
   ]
  },
  {
   "cell_type": "code",
   "execution_count": 25,
   "id": "74322094-6eac-4319-a209-da8a60a54b17",
   "metadata": {},
   "outputs": [
    {
     "name": "stdout",
     "output_type": "stream",
     "text": [
      "False\n"
     ]
    }
   ],
   "source": [
    "# Relational operation\n",
    "print(4>8)"
   ]
  },
  {
   "cell_type": "code",
   "execution_count": 15,
   "id": "5199e61f-c936-4138-bd40-82a34bad7c6c",
   "metadata": {},
   "outputs": [
    {
     "name": "stdout",
     "output_type": "stream",
     "text": [
      "True\n"
     ]
    }
   ],
   "source": [
    "print(1>0.5)"
   ]
  },
  {
   "cell_type": "code",
   "execution_count": 29,
   "id": "3bc0fb12-b75b-4df0-b768-67d891443c69",
   "metadata": {},
   "outputs": [
    {
     "name": "stdout",
     "output_type": "stream",
     "text": [
      "True\n"
     ]
    }
   ],
   "source": [
    "# Logical Operation\n",
    "print(4>2 and 8<9)"
   ]
  },
  {
   "cell_type": "code",
   "execution_count": 33,
   "id": "4d6c4b23-00ec-49de-8372-f5295a89023a",
   "metadata": {},
   "outputs": [
    {
     "name": "stdout",
     "output_type": "stream",
     "text": [
      "True\n"
     ]
    }
   ],
   "source": [
    "print(3==8 or 2>1)"
   ]
  },
  {
   "cell_type": "code",
   "execution_count": 35,
   "id": "da016029-be3e-4068-9319-63c4a79fdd99",
   "metadata": {},
   "outputs": [
    {
     "name": "stdout",
     "output_type": "stream",
     "text": [
      "True\n"
     ]
    }
   ],
   "source": [
    "print(not 3>9)"
   ]
  },
  {
   "cell_type": "code",
   "execution_count": 41,
   "id": "632de6c2-1859-4c88-8e8f-67b96509e136",
   "metadata": {},
   "outputs": [],
   "source": [
    "# There are 4 types of data(primitive type)\n",
    "# 1. Intiger\n",
    "# 2. Float\n",
    "# 3. String\n",
    "# 4. Boolean "
   ]
  },
  {
   "cell_type": "code",
   "execution_count": 45,
   "id": "869ec615-d2c8-4058-ba39-e238165d2a2e",
   "metadata": {},
   "outputs": [
    {
     "name": "stdout",
     "output_type": "stream",
     "text": [
      "<class 'float'>\n"
     ]
    }
   ],
   "source": [
    "# To find the type of the data python has special function \"type\".\n",
    "print( type(4.7))"
   ]
  },
  {
   "cell_type": "code",
   "execution_count": 59,
   "id": "76b72f04-6c65-4fee-bc03-df6a0e00cca4",
   "metadata": {},
   "outputs": [],
   "source": [
    "# Here there another type also contain in the python\n",
    "## Compound type\n",
    "# When you want to store different type of data store in together, that morment use this type.\n",
    "# There are 4 types of compound types\n",
    "# 1.List\n",
    "# 2.Touple\n",
    "# 3. Set\n",
    "# 4. Dictionary(dict)"
   ]
  },
  {
   "cell_type": "code",
   "execution_count": 67,
   "id": "0fef7ffe-6ad9-48aa-aa10-0709e6e3077c",
   "metadata": {},
   "outputs": [
    {
     "name": "stdout",
     "output_type": "stream",
     "text": [
      "[8, 5, 4, 3, 6, 7]\n"
     ]
    }
   ],
   "source": [
    "# List type\n",
    "print([8,5,4,3,6,7])"
   ]
  },
  {
   "cell_type": "code",
   "execution_count": 77,
   "id": "f4925f56-68d1-415a-88c7-5fc05ae626a3",
   "metadata": {},
   "outputs": [
    {
     "name": "stdout",
     "output_type": "stream",
     "text": [
      "{'a': 3, 'b': 6, 'c': 9}\n"
     ]
    }
   ],
   "source": [
    "# Dictionary\n",
    "print({\"a\":3,\"b\":6,\"c\":9})\n"
   ]
  },
  {
   "cell_type": "code",
   "execution_count": null,
   "id": "b7e74a1b-f832-4318-a62b-c8eae03a71ee",
   "metadata": {},
   "outputs": [],
   "source": []
  }
 ],
 "metadata": {
  "kernelspec": {
   "display_name": "anaconda-2024.02-py310",
   "language": "python",
   "name": "conda-env-anaconda-2024.02-py310-py"
  },
  "language_info": {
   "codemirror_mode": {
    "name": "ipython",
    "version": 3
   },
   "file_extension": ".py",
   "mimetype": "text/x-python",
   "name": "python",
   "nbconvert_exporter": "python",
   "pygments_lexer": "ipython3",
   "version": "3.10.14"
  }
 },
 "nbformat": 4,
 "nbformat_minor": 5
}
