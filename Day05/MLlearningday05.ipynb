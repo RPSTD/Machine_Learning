{
 "cells": [
  {
   "cell_type": "code",
   "execution_count": 1,
   "id": "3ada9554-0e96-44b1-87fe-f5297bdb36e3",
   "metadata": {},
   "outputs": [],
   "source": [
    "# Variable\n",
    "a=5"
   ]
  },
  {
   "cell_type": "code",
   "execution_count": 3,
   "id": "b6936423-6387-427f-a6d1-ea1655523cf1",
   "metadata": {},
   "outputs": [
    {
     "name": "stdout",
     "output_type": "stream",
     "text": [
      "5\n"
     ]
    }
   ],
   "source": [
    "print(a)\n"
   ]
  },
  {
   "cell_type": "code",
   "execution_count": 5,
   "id": "c4647bbb-ef06-439a-887c-d4f8f7f1a724",
   "metadata": {},
   "outputs": [],
   "source": [
    "h=[2,4,6,7,4]"
   ]
  },
  {
   "cell_type": "code",
   "execution_count": 7,
   "id": "3647726b-148f-4638-88a8-2ea927943efe",
   "metadata": {},
   "outputs": [
    {
     "name": "stdout",
     "output_type": "stream",
     "text": [
      "[2, 4, 6, 7, 4]\n"
     ]
    }
   ],
   "source": [
    "print(h)\n"
   ]
  },
  {
   "cell_type": "code",
   "execution_count": 51,
   "id": "64e94f03-1ddc-464f-8343-9377b97d123c",
   "metadata": {},
   "outputs": [
    {
     "name": "stdout",
     "output_type": "stream",
     "text": [
      "3\n"
     ]
    }
   ],
   "source": [
    "# how to access the values inside of the dictionary\n",
    "g= {\"a\":3, \"b\":5}\n",
    "print(g[\"a\"])\n"
   ]
  },
  {
   "cell_type": "code",
   "execution_count": 55,
   "id": "738a3d94-dbdf-49d3-a28f-11eb25f977f6",
   "metadata": {},
   "outputs": [
    {
     "name": "stdout",
     "output_type": "stream",
     "text": [
      "{'a': 3, 'b': 5}\n",
      "5\n"
     ]
    }
   ],
   "source": [
    "print(g)\n",
    "print(g[\"b\"])\n"
   ]
  },
  {
   "cell_type": "code",
   "execution_count": 43,
   "id": "6f01e18e-5821-41f0-9cfa-526cd292b2e6",
   "metadata": {},
   "outputs": [
    {
     "data": {
      "text/plain": [
       "4"
      ]
     },
     "execution_count": 43,
     "metadata": {},
     "output_type": "execute_result"
    }
   ],
   "source": [
    "# How to access value in the list\n",
    "e=[3,5,4,7,5,2]\n",
    "e[2]"
   ]
  },
  {
   "cell_type": "code",
   "execution_count": 45,
   "id": "0bfd3210-5dc3-413b-b6ce-38457c727b88",
   "metadata": {},
   "outputs": [
    {
     "name": "stdout",
     "output_type": "stream",
     "text": [
      "4\n"
     ]
    }
   ],
   "source": [
    "print(e[2])"
   ]
  },
  {
   "cell_type": "code",
   "execution_count": 57,
   "id": "e91bb183-cb06-49e1-b0dd-1d65eabc83bb",
   "metadata": {},
   "outputs": [],
   "source": [
    "D = {\"name\":[\"saha\",\"Hansi\",\"Binul\"],\"age\":[12,34,23]}"
   ]
  },
  {
   "cell_type": "code",
   "execution_count": 59,
   "id": "80c7fc51-52f8-4ad4-81a7-070b649969f7",
   "metadata": {},
   "outputs": [
    {
     "name": "stdout",
     "output_type": "stream",
     "text": [
      "['saha', 'Hansi', 'Binul']\n"
     ]
    }
   ],
   "source": [
    "print(D[\"name\"])"
   ]
  },
  {
   "cell_type": "code",
   "execution_count": 65,
   "id": "ae9feae4-5880-4374-8e54-e3da69c92226",
   "metadata": {},
   "outputs": [],
   "source": [
    "q=[3,6,8,9,0,8,6,7,5]"
   ]
  },
  {
   "cell_type": "code",
   "execution_count": 73,
   "id": "b4cb1737-4dea-49d1-8078-e9589e7baff5",
   "metadata": {},
   "outputs": [],
   "source": [
    "# How to add new element to list\n",
    "# This append function is only for list\n",
    "q.append(3)"
   ]
  },
  {
   "cell_type": "code",
   "execution_count": 69,
   "id": "a0a382ca-946c-483b-8f04-297a733d97e1",
   "metadata": {},
   "outputs": [
    {
     "data": {
      "text/plain": [
       "[3, 6, 8, 9, 0, 8, 6, 7, 5, 3]"
      ]
     },
     "execution_count": 69,
     "metadata": {},
     "output_type": "execute_result"
    }
   ],
   "source": [
    "q"
   ]
  },
  {
   "cell_type": "code",
   "execution_count": 75,
   "id": "a6e6d17e-f484-4064-9a71-8fab9dd0bb9c",
   "metadata": {},
   "outputs": [],
   "source": [
    "# How to remove a number from the list\n",
    "q.remove(9)"
   ]
  },
  {
   "cell_type": "code",
   "execution_count": 77,
   "id": "8f93580a-d69a-41c5-ad16-b30997a831e6",
   "metadata": {},
   "outputs": [
    {
     "data": {
      "text/plain": [
       "[3, 6, 8, 0, 8, 6, 7, 5, 3, 3]"
      ]
     },
     "execution_count": 77,
     "metadata": {},
     "output_type": "execute_result"
    }
   ],
   "source": [
    "q\n"
   ]
  },
  {
   "cell_type": "code",
   "execution_count": 79,
   "id": "297b0dfe-d795-4ba4-9921-77621a52e67e",
   "metadata": {},
   "outputs": [],
   "source": [
    "q.remove(3)"
   ]
  },
  {
   "cell_type": "code",
   "execution_count": 81,
   "id": "03d8cd2f-eced-4ccc-bc01-964975b65cc4",
   "metadata": {},
   "outputs": [
    {
     "data": {
      "text/plain": [
       "[6, 8, 0, 8, 6, 7, 5, 3, 3]"
      ]
     },
     "execution_count": 81,
     "metadata": {},
     "output_type": "execute_result"
    }
   ],
   "source": [
    "q"
   ]
  },
  {
   "cell_type": "code",
   "execution_count": 85,
   "id": "fcfe62f7-c75e-45c0-a4ad-b60efefec9ce",
   "metadata": {},
   "outputs": [
    {
     "data": {
      "text/plain": [
       "[6, 8, 0, 8, 6, 7, 5, 3, 3, 100, 399, 943]"
      ]
     },
     "execution_count": 85,
     "metadata": {},
     "output_type": "execute_result"
    }
   ],
   "source": [
    "# How to add more numbers to the list\n",
    "q.extend([100,399,943])\n",
    "q"
   ]
  },
  {
   "cell_type": "code",
   "execution_count": 93,
   "id": "a8cd6582-a0f3-4cbb-9572-d85bc3249c3e",
   "metadata": {},
   "outputs": [
    {
     "name": "stdout",
     "output_type": "stream",
     "text": [
      "X is greator than 1\n"
     ]
    }
   ],
   "source": [
    "# If condition\n",
    "x=3\n",
    "if x>1:\n",
    "    print(\"X is greator than 1\")\n",
    "else:\n",
    "    print(\" The condition is not satisfy\")"
   ]
  },
  {
   "cell_type": "code",
   "execution_count": 99,
   "id": "72155b7b-a3d2-4fb1-8261-c91178608797",
   "metadata": {},
   "outputs": [
    {
     "name": "stdout",
     "output_type": "stream",
     "text": [
      " The condition is satisfy\n"
     ]
    }
   ],
   "source": [
    "x=3\n",
    "if x>1:\n",
    "    result=\" The condition is satisfy\"\n",
    "else:\n",
    "    result= \"The condition is not satisfy\"\n",
    "print (result)"
   ]
  },
  {
   "cell_type": "code",
   "execution_count": 101,
   "id": "a2f88143-4c91-4466-8ad6-ea5fd2b6cae6",
   "metadata": {},
   "outputs": [],
   "source": [
    "marks = 43"
   ]
  },
  {
   "cell_type": "code",
   "execution_count": 103,
   "id": "2a66680e-f04d-45a7-a45b-30f3ec6af050",
   "metadata": {},
   "outputs": [],
   "source": [
    "if marks>80:\n",
    "    result = \"A\"\n",
    "elif marks>60:\n",
    "    result = \"B\"\n",
    "elif marks>40:\n",
    "    result = \"C\""
   ]
  },
  {
   "cell_type": "code",
   "execution_count": 105,
   "id": "32e27102-aa7e-41d3-886e-b06b332899f3",
   "metadata": {},
   "outputs": [
    {
     "name": "stdout",
     "output_type": "stream",
     "text": [
      "C\n"
     ]
    }
   ],
   "source": [
    "print(result)"
   ]
  },
  {
   "cell_type": "code",
   "execution_count": 109,
   "id": "69f36b61-0bbd-41b6-ad4d-2f43fa7652fb",
   "metadata": {},
   "outputs": [
    {
     "name": "stdout",
     "output_type": "stream",
     "text": [
      "2\n",
      "5\n",
      "7\n",
      "5\n",
      "4\n",
      "7\n",
      "8\n",
      "5\n",
      "4\n"
     ]
    }
   ],
   "source": [
    "# Loops\n",
    "L= [2,5,7,5,4,7,8,5,4]\n",
    "for x in L:\n",
    "    print(x)"
   ]
  },
  {
   "cell_type": "code",
   "execution_count": 113,
   "id": "2619d2be-70e0-41eb-9373-55a685a6ee34",
   "metadata": {},
   "outputs": [
    {
     "name": "stdout",
     "output_type": "stream",
     "text": [
      "7\n",
      "7\n",
      "8\n"
     ]
    }
   ],
   "source": [
    "for x in L:\n",
    "    if x>5:\n",
    "        print(x)"
   ]
  },
  {
   "cell_type": "code",
   "execution_count": 117,
   "id": "4c877564-3a45-4034-b0d3-eec82c3e2fa3",
   "metadata": {},
   "outputs": [
    {
     "name": "stdout",
     "output_type": "stream",
     "text": [
      "[4, 10, 14, 10, 8, 14, 16, 10, 8]\n"
     ]
    }
   ],
   "source": [
    "h=[]\n",
    "for x in L:\n",
    "    h.append(x*2)\n",
    "\n",
    "print(h)\n"
   ]
  },
  {
   "cell_type": "code",
   "execution_count": null,
   "id": "89bb3e5c-c62e-4862-9568-195487317548",
   "metadata": {},
   "outputs": [],
   "source": []
  }
 ],
 "metadata": {
  "kernelspec": {
   "display_name": "anaconda-ai-2024.04-py310",
   "language": "python",
   "name": "conda-env-anaconda-ai-2024.04-py310-py"
  },
  "language_info": {
   "codemirror_mode": {
    "name": "ipython",
    "version": 3
   },
   "file_extension": ".py",
   "mimetype": "text/x-python",
   "name": "python",
   "nbconvert_exporter": "python",
   "pygments_lexer": "ipython3",
   "version": "3.10.13"
  }
 },
 "nbformat": 4,
 "nbformat_minor": 5
}
