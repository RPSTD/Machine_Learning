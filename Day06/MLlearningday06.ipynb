{
 "cells": [
  {
   "cell_type": "code",
   "execution_count": 7,
   "id": "ca57c7d5-c728-4cd4-92f6-677a314be4f7",
   "metadata": {},
   "outputs": [
    {
     "name": "stdout",
     "output_type": "stream",
     "text": [
      "0\n",
      "1\n",
      "2\n",
      "3\n",
      "4\n",
      "5\n",
      "6\n",
      "7\n",
      "8\n",
      "9\n",
      "10\n"
     ]
    }
   ],
   "source": [
    "# while loop\n",
    "x=0\n",
    "while x <= 10:\n",
    "    print(x)\n",
    "    x=x+1"
   ]
  },
  {
   "cell_type": "code",
   "execution_count": 9,
   "id": "1d815122-c360-4002-ae63-a265da2445a6",
   "metadata": {},
   "outputs": [],
   "source": [
    "# Making function \n",
    "def rewrite():\n",
    "    print(\"sahan\")\n",
    "    print(\"Thilakshana\")\n",
    "    print(\"Dankelewathhtha\")\n"
   ]
  },
  {
   "cell_type": "code",
   "execution_count": 11,
   "id": "8732648d-7a36-428c-99d7-61796f8770c2",
   "metadata": {},
   "outputs": [
    {
     "name": "stdout",
     "output_type": "stream",
     "text": [
      "sahan\n",
      "Thilakshana\n",
      "Dankelewathhtha\n"
     ]
    }
   ],
   "source": [
    "rewrite()"
   ]
  },
  {
   "cell_type": "code",
   "execution_count": 15,
   "id": "72234d99-72f5-4b06-8933-e4735eeeb8b5",
   "metadata": {},
   "outputs": [
    {
     "name": "stdout",
     "output_type": "stream",
     "text": [
      "sahan\n",
      "Thilakshana\n",
      "Dankelewathhtha\n",
      "sahan\n",
      "Thilakshana\n",
      "Dankelewathhtha\n",
      "sahan\n",
      "Thilakshana\n",
      "Dankelewathhtha\n",
      "sahan\n",
      "Thilakshana\n",
      "Dankelewathhtha\n",
      "sahan\n",
      "Thilakshana\n",
      "Dankelewathhtha\n",
      "sahan\n",
      "Thilakshana\n",
      "Dankelewathhtha\n",
      "sahan\n",
      "Thilakshana\n",
      "Dankelewathhtha\n",
      "sahan\n",
      "Thilakshana\n",
      "Dankelewathhtha\n",
      "sahan\n",
      "Thilakshana\n",
      "Dankelewathhtha\n",
      "sahan\n",
      "Thilakshana\n",
      "Dankelewathhtha\n"
     ]
    }
   ],
   "source": [
    "x= 0\n",
    "while x<10:\n",
    "    rewrite()\n",
    "    x=x+1"
   ]
  },
  {
   "cell_type": "code",
   "execution_count": 17,
   "id": "33dc8ce5-0825-4b73-8b00-66e1833e3d0b",
   "metadata": {},
   "outputs": [],
   "source": [
    "def funct2 (a,b):\n",
    "    answer=b/a\n",
    "    print(answer)\n",
    "    "
   ]
  },
  {
   "cell_type": "code",
   "execution_count": 19,
   "id": "8c17d385-6149-4f44-bed8-b2aab36d884d",
   "metadata": {},
   "outputs": [
    {
     "name": "stdout",
     "output_type": "stream",
     "text": [
      "3.0\n"
     ]
    }
   ],
   "source": [
    "funct2(30,90)"
   ]
  },
  {
   "cell_type": "code",
   "execution_count": 25,
   "id": "7ba0fc7f-3cd0-4400-adda-4471141246ed",
   "metadata": {},
   "outputs": [],
   "source": [
    "import numpy as np\n",
    "a = np.array([3,5,47,78,5,4,34,67,62,11,56,88,66])\n"
   ]
  },
  {
   "cell_type": "code",
   "execution_count": 27,
   "id": "dfd27a29-a401-423a-8ba9-768dc27765d1",
   "metadata": {},
   "outputs": [
    {
     "data": {
      "text/plain": [
       "3"
      ]
     },
     "execution_count": 27,
     "metadata": {},
     "output_type": "execute_result"
    }
   ],
   "source": [
    "a[0]"
   ]
  },
  {
   "cell_type": "code",
   "execution_count": 29,
   "id": "3345540d-9dcd-4923-a2bc-07e4a215b499",
   "metadata": {},
   "outputs": [
    {
     "data": {
      "text/plain": [
       "4"
      ]
     },
     "execution_count": 29,
     "metadata": {},
     "output_type": "execute_result"
    }
   ],
   "source": [
    "a[5]"
   ]
  },
  {
   "cell_type": "code",
   "execution_count": 33,
   "id": "1bba2bc9-5bc2-42d8-bf29-a48c9dc7e685",
   "metadata": {},
   "outputs": [
    {
     "name": "stdout",
     "output_type": "stream",
     "text": [
      "[47 78  5  4]\n"
     ]
    }
   ],
   "source": [
    "print(a[2:6])"
   ]
  },
  {
   "cell_type": "code",
   "execution_count": 35,
   "id": "c0388c0e-1cd1-433c-9733-aeb2b481f7b7",
   "metadata": {},
   "outputs": [
    {
     "name": "stdout",
     "output_type": "stream",
     "text": [
      "[ 3  5 47 78  5  4]\n"
     ]
    }
   ],
   "source": [
    "print(a[:6])"
   ]
  },
  {
   "cell_type": "code",
   "execution_count": 37,
   "id": "9a9f7270-a873-41c0-bd03-4a0c4c978897",
   "metadata": {},
   "outputs": [
    {
     "name": "stdout",
     "output_type": "stream",
     "text": [
      "[78  5  4 34 67 62 11 56 88 66]\n"
     ]
    }
   ],
   "source": [
    "print(a[3:])"
   ]
  },
  {
   "cell_type": "code",
   "execution_count": 41,
   "id": "fc48c4af-9569-4e9e-bc25-a16626dc6ccd",
   "metadata": {},
   "outputs": [],
   "source": [
    "# This is how we create 4x4 array \n",
    "array=np.array([[1,3,7,4],[7,4,8,1],[9,5,7,3],[4,8,9,0]])"
   ]
  },
  {
   "cell_type": "code",
   "execution_count": 43,
   "id": "11cdb544-3e71-484e-a7d4-afc11ed0d552",
   "metadata": {},
   "outputs": [
    {
     "name": "stdout",
     "output_type": "stream",
     "text": [
      "[[1 3 7 4]\n",
      " [7 4 8 1]\n",
      " [9 5 7 3]\n",
      " [4 8 9 0]]\n"
     ]
    }
   ],
   "source": [
    "print(array)\n"
   ]
  },
  {
   "cell_type": "code",
   "execution_count": 47,
   "id": "5a2f02bc-b960-4243-b093-652b192bed74",
   "metadata": {},
   "outputs": [
    {
     "name": "stdout",
     "output_type": "stream",
     "text": [
      "7\n"
     ]
    }
   ],
   "source": [
    "print(array[2,2])"
   ]
  },
  {
   "cell_type": "code",
   "execution_count": 51,
   "id": "60f94ddd-0701-4c6d-b8e3-a998d37a9fdb",
   "metadata": {},
   "outputs": [
    {
     "name": "stdout",
     "output_type": "stream",
     "text": [
      "[[4]\n",
      " [5]]\n"
     ]
    }
   ],
   "source": [
    "print(array[1:3,1:2])\n",
    "# Here[1:3,1:2]t mean, go 1 to 2 without 3 in row and go to 1 without 2 "
   ]
  },
  {
   "cell_type": "code",
   "execution_count": 65,
   "id": "8a7e1063-0686-4103-a1af-5480c2dc5c52",
   "metadata": {},
   "outputs": [
    {
     "name": "stdout",
     "output_type": "stream",
     "text": [
      "[4 8 1]\n"
     ]
    }
   ],
   "source": [
    "print(array[1,1:])"
   ]
  },
  {
   "cell_type": "code",
   "execution_count": 71,
   "id": "61d7bda8-c1ec-48ea-8996-417630215706",
   "metadata": {},
   "outputs": [
    {
     "name": "stdout",
     "output_type": "stream",
     "text": [
      "[[7]\n",
      " [8]\n",
      " [7]\n",
      " [9]]\n"
     ]
    }
   ],
   "source": [
    "print(array[:,2:3])"
   ]
  },
  {
   "cell_type": "code",
   "execution_count": 75,
   "id": "813c117d-2dd6-4564-bd8a-a74e30db5961",
   "metadata": {},
   "outputs": [],
   "source": [
    "sahan = np.array([3,6,8,9,8,7,5,7,8,9,7,6,5,4,3,2,3,5,7,8])"
   ]
  },
  {
   "cell_type": "code",
   "execution_count": 77,
   "id": "654ac899-354e-472d-a20f-e056be9e47a5",
   "metadata": {},
   "outputs": [
    {
     "data": {
      "text/plain": [
       "120"
      ]
     },
     "execution_count": 77,
     "metadata": {},
     "output_type": "execute_result"
    }
   ],
   "source": [
    "sahan.sum()"
   ]
  },
  {
   "cell_type": "code",
   "execution_count": 79,
   "id": "d8e5c947-73d9-4ce8-8548-3f9b4744c834",
   "metadata": {},
   "outputs": [
    {
     "data": {
      "text/plain": [
       "6.0"
      ]
     },
     "execution_count": 79,
     "metadata": {},
     "output_type": "execute_result"
    }
   ],
   "source": [
    "sahan.mean()"
   ]
  },
  {
   "cell_type": "code",
   "execution_count": 81,
   "id": "dadd9d91-659b-4ff2-92b6-f1cac58f1dfe",
   "metadata": {},
   "outputs": [
    {
     "data": {
      "text/plain": [
       "2"
      ]
     },
     "execution_count": 81,
     "metadata": {},
     "output_type": "execute_result"
    }
   ],
   "source": [
    "sahan.min()"
   ]
  },
  {
   "cell_type": "code",
   "execution_count": 85,
   "id": "c585b910-f513-4481-8114-922d6fbb8150",
   "metadata": {},
   "outputs": [],
   "source": [
    "# Metrix multification\n",
    "p=np.array([[2,4,3],[3,4,6],[8,6,9]])\n",
    "q=np.array([[4,7,9],[5,6,9],[4,8,6]])"
   ]
  },
  {
   "cell_type": "code",
   "execution_count": 89,
   "id": "a000ebf9-bcfe-4468-86cd-42c3b49bd78c",
   "metadata": {},
   "outputs": [
    {
     "name": "stdout",
     "output_type": "stream",
     "text": [
      "[[ 6 11 12]\n",
      " [ 8 10 15]\n",
      " [12 14 15]]\n"
     ]
    }
   ],
   "source": [
    "r=p+q\n",
    "print(r)"
   ]
  },
  {
   "cell_type": "code",
   "execution_count": 91,
   "id": "ce0cd068-08c5-46d0-84a5-f377342847cb",
   "metadata": {},
   "outputs": [
    {
     "data": {
      "text/plain": [
       "array([[4, 7, 9],\n",
       "       [5, 6, 9],\n",
       "       [4, 8, 6]])"
      ]
     },
     "execution_count": 91,
     "metadata": {},
     "output_type": "execute_result"
    }
   ],
   "source": [
    "q"
   ]
  },
  {
   "cell_type": "code",
   "execution_count": 93,
   "id": "1ca4bd89-d54a-459b-9083-d484d3fc0d31",
   "metadata": {},
   "outputs": [
    {
     "data": {
      "text/plain": [
       "array([[ 6, 11, 12],\n",
       "       [ 8, 10, 15],\n",
       "       [12, 14, 15]])"
      ]
     },
     "execution_count": 93,
     "metadata": {},
     "output_type": "execute_result"
    }
   ],
   "source": [
    "p+q"
   ]
  },
  {
   "cell_type": "code",
   "execution_count": 95,
   "id": "8ece935a-77e0-4876-b623-9b39088b8a00",
   "metadata": {},
   "outputs": [
    {
     "data": {
      "text/plain": [
       "array([[20, 40, 30],\n",
       "       [30, 40, 60],\n",
       "       [80, 60, 90]])"
      ]
     },
     "execution_count": 95,
     "metadata": {},
     "output_type": "execute_result"
    }
   ],
   "source": [
    "p*10"
   ]
  },
  {
   "cell_type": "code",
   "execution_count": 97,
   "id": "69b16a60-b713-4881-9819-eaa520f60461",
   "metadata": {},
   "outputs": [
    {
     "data": {
      "text/plain": [
       "array([[ 8, 28, 27],\n",
       "       [15, 24, 54],\n",
       "       [32, 48, 54]])"
      ]
     },
     "execution_count": 97,
     "metadata": {},
     "output_type": "execute_result"
    }
   ],
   "source": [
    "# Here this is not a real multification of 2d array. \n",
    "# we say this multification as \"Hadamart product\"\n",
    "p*q"
   ]
  },
  {
   "cell_type": "code",
   "execution_count": 101,
   "id": "398e9d9b-928c-4173-901f-f3cedf943bd0",
   "metadata": {},
   "outputs": [
    {
     "data": {
      "text/plain": [
       "array([[ 40,  62,  72],\n",
       "       [ 56,  93,  99],\n",
       "       [ 98, 164, 180]])"
      ]
     },
     "execution_count": 101,
     "metadata": {},
     "output_type": "execute_result"
    }
   ],
   "source": [
    "# Here the way doing metrix multification\n",
    "p.dot(q)"
   ]
  },
  {
   "cell_type": "code",
   "execution_count": null,
   "id": "38dac3d3-fa36-42e5-b82a-f74c16051620",
   "metadata": {},
   "outputs": [],
   "source": []
  }
 ],
 "metadata": {
  "kernelspec": {
   "display_name": "anaconda-panel-2023.05-py310",
   "language": "python",
   "name": "conda-env-anaconda-panel-2023.05-py310-py"
  },
  "language_info": {
   "codemirror_mode": {
    "name": "ipython",
    "version": 3
   },
   "file_extension": ".py",
   "mimetype": "text/x-python",
   "name": "python",
   "nbconvert_exporter": "python",
   "pygments_lexer": "ipython3",
   "version": "3.11.5"
  }
 },
 "nbformat": 4,
 "nbformat_minor": 5
}
